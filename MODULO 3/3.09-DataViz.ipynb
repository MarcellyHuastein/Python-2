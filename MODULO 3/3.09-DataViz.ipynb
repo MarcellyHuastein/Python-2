{
 "cells": [
  {
   "cell_type": "markdown",
   "metadata": {},
   "source": [
    "> Projeto Desenvolve <br>\n",
    "Programação Intermediária com Python <br>\n",
    "Profa. Camila Laranjeira (mila@projetodesenvolve.com.br) <br>\n",
    "\n",
    "# 3.9 - Visualização de Dados"
   ]
  },
  {
   "cell_type": "markdown",
   "metadata": {
    "vscode": {
     "languageId": "plaintext"
    }
   },
   "source": [
    "## Exercícios\n",
    "Vamos trabalhar com as mesmas bases de dados do exercício de Pandas. Aqui estão os links caso você queira baixar novamente, mas recomendo trabalhar com o `wc_formatado.csv` que exportamos na questão Q2 do exercício anterior.\n",
    "\n",
    "* https://raw.githubusercontent.com/camilalaranjeira/python-intermediario/main/fifa-wc/matches_1930_2022.csv\n",
    "* https://raw.githubusercontent.com/camilalaranjeira/python-intermediario/main/fifa-wc/matches_1991_2023.csv\n",
    "\n",
    "Para relembrar, essas são as colunas do dataframe:\n",
    "```\n",
    "Data columns (total 21 columns):\n",
    " #   Column             Non-Null Count  Dtype         \n",
    "---  ------             --------------  -----         \n",
    " 0   time_1             1312 non-null   string        \n",
    " 1   time_2             1312 non-null   string        \n",
    " 2   gols_1             1312 non-null   int64         \n",
    " 3   gols_2             1312 non-null   int64         \n",
    " 4   data               1312 non-null   datetime64[ns]\n",
    " 5   ano                1312 non-null   int64         \n",
    " 6   país_sede          1312 non-null   string        \n",
    " 7   comparecimento     1312 non-null   int64         \n",
    " 8   resultado          1312 non-null   string        \n",
    " 9   rodada             1312 non-null   category      \n",
    " 10  gols_1_detalhes    970 non-null    string        \n",
    " 11  gols_2_detalhes    771 non-null    string        \n",
    " 12  gols_1_contra      57 non-null     string        \n",
    " 13  gols_2_contra      30 non-null     string        \n",
    " 14  gols_1_penalti     170 non-null    string        \n",
    " 15  gols_2_penalti     119 non-null    string        \n",
    " 16  cartao_vermelho_1  59 non-null     string        \n",
    " 17  cartao_vermelho_2  65 non-null     string        \n",
    " 18  cartao_amarelo_1   834 non-null    string        \n",
    " 19  cartao_amarelo_2   857 non-null    string        \n",
    " 20  copa               1312 non-null   string \n",
    "```"
   ]
  },
  {
   "cell_type": "markdown",
   "metadata": {},
   "source": [
    "#### Q1.\n",
    "Realize todos os imports necessários para executar as três bibliotecas de visualização que conhecemos:\n",
    "* Matplotlib (lembre-se do comando mágico)\n",
    "* Seaborn\n",
    "* Plotly\n",
    "\n",
    "Para cada uma delas, altere o tema padrão de visualização. "
   ]
  },
  {
   "cell_type": "code",
   "execution_count": null,
   "metadata": {
    "vscode": {
     "languageId": "plaintext"
    }
   },
   "outputs": [],
   "source": [
    "# 1. Matplotlib\n",
    "import matplotlib.pyplot as plt\n",
    "%matplotlib inline  # Comando mágico para exibir gráficos no Jupyter Notebook\n",
    "plt.style.use('ggplot')  # Alterar o tema para 'ggplot'\n",
    "\n",
    "# 2. Seaborn\n",
    "import seaborn as sns\n",
    "sns.set_theme(style=\"darkgrid\")  # Alterar o tema para 'darkgrid'\n",
    "\n",
    "# 3. Plotly\n",
    "import plotly.express as px\n",
    "import plotly.io as pio\n",
    "pio.templates.default = \"plotly_dark\"  # Alterar o tema para 'plotly_dark'"
   ]
  },
  {
   "cell_type": "markdown",
   "metadata": {
    "vscode": {
     "languageId": "plaintext"
    }
   },
   "source": [
    "#### Q2.\n",
    "Sobre os dados de copa do mundo, qual a distribuição de público presente nos jogos? Isso pode ser respondido com um histograma com os dados da coluna `comparecimento`.  \n",
    "\n",
    "Lembre-se que alguns jogos estavam com público 0 incorretamente, que tal remover essas ocorrências para não atrapalhar sua visualzação?\n",
    "\n",
    "Você deve implementar essa visualização nas três bibliotecas que vimos:\n",
    "* Matplotlib\n",
    "* Seaborn\n",
    "* Plotly\n",
    "\n",
    "Garanta que o gráfico tenha pelo menos os atributos de título e rótulos de dimensão."
   ]
  },
  {
   "cell_type": "code",
   "execution_count": null,
   "metadata": {
    "vscode": {
     "languageId": "plaintext"
    }
   },
   "outputs": [],
   "source": [
    "import matplotlib.pyplot as plt\n",
    "import pandas as pd\n",
    "\n",
    "# Supondo que wc seja o DataFrame original\n",
    "\n",
    "# Filtrar os dados para remover comparecimento igual a 0\n",
    "comparecimento_filtrado = wc[wc['comparecimento'] > 0]['comparecimento']\n",
    "\n",
    "# Criar o histograma\n",
    "plt.figure(figsize=(10, 6))\n",
    "plt.hist(comparecimento_filtrado, bins=30, color='blue', edgecolor='black')\n",
    "plt.title('Distribuição de Público Presente nos Jogos (Matplotlib)')\n",
    "plt.xlabel('Público Presente')\n",
    "plt.ylabel('Frequência')\n",
    "plt.grid(True)\n",
    "plt.show()"
   ]
  },
  {
   "cell_type": "code",
   "execution_count": null,
   "metadata": {
    "vscode": {
     "languageId": "plaintext"
    }
   },
   "outputs": [],
   "source": [
    "import seaborn as sns\n",
    "import pandas as pd\n",
    "\n",
    "# Supondo que wc seja o DataFrame original\n",
    "\n",
    "# Filtrar os dados para remover comparecimento igual a 0\n",
    "comparecimento_filtrado = wc[wc['comparecimento'] > 0]['comparecimento']\n",
    "\n",
    "# Criar o histograma\n",
    "plt.figure(figsize=(10, 6))\n",
    "sns.histplot(comparecimento_filtrado, bins=30, kde=True, color='green')\n",
    "plt.title('Distribuição de Público Presente nos Jogos (Seaborn)')\n",
    "plt.xlabel('Público Presente')\n",
    "plt.ylabel('Frequência')\n",
    "plt.grid(True)\n",
    "plt.show()"
   ]
  },
  {
   "cell_type": "code",
   "execution_count": null,
   "metadata": {
    "vscode": {
     "languageId": "plaintext"
    }
   },
   "outputs": [],
   "source": [
    "import plotly.express as px\n",
    "import pandas as pd\n",
    "\n",
    "# Supondo que wc seja o DataFrame original\n",
    "\n",
    "# Filtrar os dados para remover comparecimento igual a 0\n",
    "comparecimento_filtrado = wc[wc['comparecimento'] > 0]['comparecimento']\n",
    "\n",
    "# Criar o histograma\n",
    "fig = px.histogram(comparecimento_filtrado, nbins=30, title='Distribuição de Público Presente nos Jogos (Plotly)')\n",
    "fig.update_layout(\n",
    "    xaxis_title='Público Presente',\n",
    "    yaxis_title='Frequência',\n",
    "    template='plotly_dark'\n",
    ")\n",
    "fig.show()"
   ]
  },
  {
   "cell_type": "markdown",
   "metadata": {},
   "source": [
    "#### Q3.\n",
    "\n",
    "Apresente um gráfico de dispersão (scatter) dos atributos `gols_1` e `gols_2`. Isso representa a relação entre gols feitos e gols tomados por jogo. Há alguma relação interessante entre esses atributos?\n",
    "\n",
    "Para facilitar a visualização dos dados (já que tem muitos placares repetidos), aplique uma leve distorção aos dados para que cada ponto esteja deslocado aleatoriamente de seu valor original. Código apresentado a seguir\n",
    "```python\n",
    "gols = wc[['gols_1', 'gols_2']] * np.random.random((len(wc),2))\n",
    "```\n",
    "\n",
    "Você deve implementar essa visualização nas três bibliotecas que vimos:\n",
    "* Matplotlib\n",
    "* Seaborn\n",
    "* Plotly\n",
    "\n",
    "Garanta que o gráfico tenha pelo menos os atributos de título e rótulos de dimensão."
   ]
  },
  {
   "cell_type": "code",
   "execution_count": null,
   "metadata": {
    "vscode": {
     "languageId": "plaintext"
    }
   },
   "outputs": [],
   "source": [
    "import matplotlib.pyplot as plt\n",
    "import numpy as np\n",
    "import pandas as pd\n",
    "\n",
    "# Supondo que wc seja o DataFrame original\n",
    "\n",
    "# Aplicar distorção aleatória aos dados\n",
    "gols = wc[['gols_1', 'gols_2']] * np.random.random((len(wc), 2))\n",
    "\n",
    "# Criar o gráfico de dispersão\n",
    "plt.figure(figsize=(10, 6))\n",
    "plt.scatter(gols['gols_1'], gols['gols_2'], alpha=0.5, color='blue')\n",
    "plt.title('Relação entre Gols Feitos e Gols Tomados por Jogo (Matplotlib)')\n",
    "plt.xlabel('Gols Feitos (gols_1)')\n",
    "plt.ylabel('Gols Tomados (gols_2)')\n",
    "plt.grid(True)\n",
    "plt.show()"
   ]
  },
  {
   "cell_type": "code",
   "execution_count": null,
   "metadata": {
    "vscode": {
     "languageId": "plaintext"
    }
   },
   "outputs": [],
   "source": [
    "import seaborn as sns\n",
    "import numpy as np\n",
    "import pandas as pd\n",
    "\n",
    "# Supondo que wc seja o DataFrame original\n",
    "\n",
    "# Aplicar distorção aleatória aos dados\n",
    "gols = wc[['gols_1', 'gols_2']] * np.random.random((len(wc), 2))\n",
    "\n",
    "# Criar o gráfico de dispersão\n",
    "plt.figure(figsize=(10, 6))\n",
    "sns.scatterplot(x=gols['gols_1'], y=gols['gols_2'], alpha=0.5, color='green')\n",
    "plt.title('Relação entre Gols Feitos e Gols Tomados por Jogo (Seaborn)')\n",
    "plt.xlabel('Gols Feitos (gols_1)')\n",
    "plt.ylabel('Gols Tomados (gols_2)')\n",
    "plt.grid(True)\n",
    "plt.show()"
   ]
  },
  {
   "cell_type": "code",
   "execution_count": null,
   "metadata": {
    "vscode": {
     "languageId": "plaintext"
    }
   },
   "outputs": [],
   "source": [
    "import plotly.express as px\n",
    "import numpy as np\n",
    "import pandas as pd\n",
    "\n",
    "# Supondo que wc seja o DataFrame original\n",
    "\n",
    "# Aplicar distorção aleatória aos dados\n",
    "gols = wc[['gols_1', 'gols_2']] * np.random.random((len(wc), 2))\n",
    "\n",
    "# Criar o gráfico de dispersão\n",
    "fig = px.scatter(gols, x='gols_1', y='gols_2', title='Relação entre Gols Feitos e Gols Tomados por Jogo (Plotly)')\n",
    "fig.update_layout(\n",
    "    xaxis_title='Gols Feitos (gols_1)',\n",
    "    yaxis_title='Gols Tomados (gols_2)',\n",
    "    template='plotly_dark'\n",
    ")\n",
    "fig.show()"
   ]
  },
  {
   "cell_type": "markdown",
   "metadata": {},
   "source": [
    "#### Q4.\n",
    "\n",
    "Apresente um gráfico de barras com o top 10 países que mais participaram de copas do mundo, onde no eixo x devem estar o nome dos países e no eixo y a contagem de participações. Você deve separar a contagem de participações em copas femininas e masculinas, empilhando as barras de cada informação.\n",
    "\n",
    "No exemplo de barras empilhadas da galeria do matplotlib, imagine que a parte azul são as participações do país em copas masculinas, e em laranja as participações femininas:\n",
    "* https://matplotlib.org/stable/gallery/lines_bars_and_markers/bar_stacked.html\n",
    "\n",
    "Você deve implementar essa visualização nas três bibliotecas que vimos:\n",
    "* Matplotlib\n",
    "* Seaborn\n",
    "* Plotly\n",
    "\n",
    "Garanta que o gráfico tenha pelo menos os atributos:\n",
    "* título\n",
    "* rótulos de dimensão.\n",
    "* legenda"
   ]
  },
  {
   "cell_type": "code",
   "execution_count": null,
   "metadata": {
    "vscode": {
     "languageId": "plaintext"
    }
   },
   "outputs": [],
   "source": [
    "import matplotlib.pyplot as plt\n",
    "import pandas as pd\n",
    "\n",
    "# Supondo que wc seja o DataFrame original\n",
    "\n",
    "# Extrair o gênero da Copa (masculina ou feminina)\n",
    "wc['genero_copa'] = wc['copa'].apply(lambda x: 'Feminina' if 'Feminina' in x else 'Masculina')\n",
    "\n",
    "# Contar a participação de cada país\n",
    "participacao = wc.groupby(['país_sede', 'genero_copa']).size().unstack(fill_value=0)\n",
    "\n",
    "# Selecionar os top 10 países com mais participações\n",
    "top_paises = participacao.sum(axis=1).nlargest(10).index\n",
    "participacao_top = participacao.loc[top_paises]\n",
    "\n",
    "# Criar o gráfico de barras empilhadas\n",
    "plt.figure(figsize=(12, 6))\n",
    "participacao_top.plot(kind='bar', stacked=True, color=['blue', 'orange'])\n",
    "plt.title('Top 10 Países com Mais Participações em Copas do Mundo (Matplotlib)')\n",
    "plt.xlabel('País')\n",
    "plt.ylabel('Número de Participações')\n",
    "plt.legend(title='Gênero da Copa')\n",
    "plt.grid(True)\n",
    "plt.show()"
   ]
  },
  {
   "cell_type": "code",
   "execution_count": null,
   "metadata": {
    "vscode": {
     "languageId": "plaintext"
    }
   },
   "outputs": [],
   "source": [
    "import seaborn as sns\n",
    "import pandas as pd\n",
    "import matplotlib.pyplot as plt\n",
    "\n",
    "# Supondo que wc seja o DataFrame original\n",
    "\n",
    "# Extrair o gênero da Copa (masculina ou feminina)\n",
    "wc['genero_copa'] = wc['copa'].apply(lambda x: 'Feminina' if 'Feminina' in x else 'Masculina')\n",
    "\n",
    "# Contar a participação de cada país\n",
    "participacao = wc.groupby(['país_sede', 'genero_copa']).size().unstack(fill_value=0)\n",
    "\n",
    "# Selecionar os top 10 países com mais participações\n",
    "top_paises = participacao.sum(axis=1).nlargest(10).index\n",
    "participacao_top = participacao.loc[top_paises].reset_index()\n",
    "\n",
    "# Transformar o DataFrame para o formato longo (necessário para Seaborn)\n",
    "participacao_top_long = participacao_top.melt(id_vars='país_sede', var_name='genero_copa', value_name='participacoes')\n",
    "\n",
    "# Criar o gráfico de barras empilhadas\n",
    "plt.figure(figsize=(12, 6))\n",
    "sns.barplot(data=participacao_top_long, x='país_sede', y='participacoes', hue='genero_copa', palette=['blue', 'orange'])\n",
    "plt.title('Top 10 Países com Mais Participações em Copas do Mundo (Seaborn)')\n",
    "plt.xlabel('País')\n",
    "plt.ylabel('Número de Participações')\n",
    "plt.legend(title='Gênero da Copa')\n",
    "plt.grid(True)\n",
    "plt.show()"
   ]
  },
  {
   "cell_type": "code",
   "execution_count": null,
   "metadata": {
    "vscode": {
     "languageId": "plaintext"
    }
   },
   "outputs": [],
   "source": [
    "import plotly.express as px\n",
    "import pandas as pd\n",
    "\n",
    "# Supondo que wc seja o DataFrame original\n",
    "\n",
    "# Extrair o gênero da Copa (masculina ou feminina)\n",
    "wc['genero_copa'] = wc['copa'].apply(lambda x: 'Feminina' if 'Feminina' in x else 'Masculina')\n",
    "\n",
    "# Contar a participação de cada país\n",
    "participacao = wc.groupby(['país_sede', 'genero_copa']).size().unstack(fill_value=0)\n",
    "\n",
    "# Selecionar os top 10 países com mais participações\n",
    "top_paises = participacao.sum(axis=1).nlargest(10).index\n",
    "participacao_top = participacao.loc[top_paises].reset_index()\n",
    "\n",
    "# Transformar o DataFrame para o formato longo (necessário para Plotly)\n",
    "participacao_top_long = participacao_top.melt(id_vars='país_sede', var_name='genero_copa', value_name='participacoes')\n",
    "\n",
    "# Criar o gráfico de barras empilhadas\n",
    "fig = px.bar(participacao_top_long, x='país_sede', y='participacoes', color='genero_copa',\n",
    "             title='Top 10 Países com Mais Participações em Copas do Mundo (Plotly)',\n",
    "             labels={'país_sede': 'País', 'participacoes': 'Número de Participações'},\n",
    "             color_discrete_map={'Masculina': 'blue', 'Feminina': 'orange'})\n",
    "fig.update_layout(\n",
    "    xaxis_title='País',\n",
    "    yaxis_title='Número de Participações',\n",
    "    legend_title='Gênero da Copa',\n",
    "    template='plotly_dark'\n",
    ")\n",
    "fig.show()"
   ]
  },
  {
   "cell_type": "markdown",
   "metadata": {},
   "source": [
    "#### Q5.\n",
    "\n",
    "Vamos fazer um compilado com as estatísticas históricas de copas do mundo!\n",
    "\n",
    "Com a biblioteca de sua preferência você deve criar 4 subplots organizados em um grid de 2 linhas e 2 colunas. Eles devem conter os seguintes gráficos:\n",
    "* Linha 1, coluna 1: Gráfico de barras com a quantidade de jogos que aconteceram por ano\n",
    "* Linha 1, coluna 2: Gráfico de área (referências a seguir) com o total de gols por ano, separando as informações de `gols_1` e `gols_2` para distinguir gols em casa e do time visitante.\n",
    "* Linha 2, coluna 1: Gráfico de área com o total de cartões por ano, separando as informações de cartões amarelos e cartões vermelhos, mas agregando cartões do time 1 ou time 2. Ou seja, uma área com `cartao_amarelo_1 + cartao_amarelo_2` e outra área com `cartao_vermelho_1 + cartao_vermelho_2`.\n",
    "* Linha 2, coluna 2: Gráfico de barras com o total de gols contra por ano, somando `gols_contra_1` e `gols_contra_2`.\n",
    "\n",
    "Referências sobre gráfico de área\n",
    "* Matplotlib: https://matplotlib.org/stable/gallery/lines_bars_and_markers/stackplot_demo.html#sphx-glr-gallery-lines-bars-and-markers-stackplot-demo-py\n",
    "* Pandas + Matplotlib: https://pandas.pydata.org/docs/reference/api/pandas.DataFrame.plot.area.html\n",
    "* Seaborn: https://seaborn.pydata.org/generated/seaborn.objects.Area.html\n",
    "* Plotly: https://plotly.com/python/filled-area-plots/"
   ]
  },
  {
   "cell_type": "code",
   "execution_count": null,
   "metadata": {
    "vscode": {
     "languageId": "plaintext"
    }
   },
   "outputs": [],
   "source": [
    "import matplotlib.pyplot as plt\n",
    "import pandas as pd\n",
    "\n",
    "# Supondo que wc seja o DataFrame original\n",
    "\n",
    "# 1. Preparar os dados\n",
    "# Quantidade de jogos por ano\n",
    "jogos_por_ano = wc.groupby('ano').size()\n",
    "\n",
    "# Total de gols por ano (gols_1 e gols_2)\n",
    "gols_por_ano = wc.groupby('ano')[['gols_1', 'gols_2']].sum()\n",
    "\n",
    "# Total de cartões por ano (amarelos e vermelhos)\n",
    "cartoes_amarelos = wc.groupby('ano')[['cartao_amarelo_1', 'cartao_amarelo_2']].sum().sum(axis=1)\n",
    "cartoes_vermelhos = wc.groupby('ano')[['cartao_vermelho_1', 'cartao_vermelho_2']].sum().sum(axis=1)\n",
    "\n",
    "# Total de gols contra por ano (gols_contra_1 e gols_contra_2)\n",
    "gols_contra_por_ano = wc.groupby('ano')[['gols_1_contra', 'gols_2_contra']].sum().sum(axis=1)\n",
    "\n",
    "# 2. Criar os subplots\n",
    "fig, axs = plt.subplots(2, 2, figsize=(16, 12))\n",
    "\n",
    "# Linha 1, Coluna 1: Gráfico de barras com a quantidade de jogos por ano\n",
    "axs[0, 0].bar(jogos_por_ano.index, jogos_por_ano.values, color='blue')\n",
    "axs[0, 0].set_title('Quantidade de Jogos por Ano')\n",
    "axs[0, 0].set_xlabel('Ano')\n",
    "axs[0, 0].set_ylabel('Número de Jogos')\n",
    "axs[0, 0].grid(True)\n",
    "\n",
    "# Linha 1, Coluna 2: Gráfico de área com o total de gols por ano\n",
    "axs[0, 1].stackplot(gols_por_ano.index, gols_por_ano['gols_1'], gols_por_ano['gols_2'], labels=['Gols em Casa', 'Gols Visitante'], colors=['blue', 'orange'])\n",
    "axs[0, 1].set_title('Total de Gols por Ano')\n",
    "axs[0, 1].set_xlabel('Ano')\n",
    "axs[0, 1].set_ylabel('Total de Gols')\n",
    "axs[0, 1].legend(loc='upper left')\n",
    "axs[0, 1].grid(True)\n",
    "\n",
    "# Linha 2, Coluna 1: Gráfico de área com o total de cartões por ano\n",
    "axs[1, 0].stackplot(cartoes_amarelos.index, cartoes_amarelos, cartoes_vermelhos, labels=['Cartões Amarelos', 'Cartões Vermelhos'], colors=['yellow', 'red'])\n",
    "axs[1, 0].set_title('Total de Cartões por Ano')\n",
    "axs[1, 0].set_xlabel('Ano')\n",
    "axs[1, 0].set_ylabel('Total de Cartões')\n",
    "axs[1, 0].legend(loc='upper left')\n",
    "axs[1, 0].grid(True)\n",
    "\n",
    "# Linha 2, Coluna 2: Gráfico de barras com o total de gols contra por ano\n",
    "axs[1, 1].bar(gols_contra_por_ano.index, gols_contra_por_ano.values, color='red')\n",
    "axs[1, 1].set_title('Total de Gols Contra por Ano')\n",
    "axs[1, 1].set_xlabel('Ano')\n",
    "axs[1, 1].set_ylabel('Total de Gols Contra')\n",
    "axs[1, 1].grid(True)\n",
    "\n",
    "# Ajustar layout\n",
    "plt.tight_layout()\n",
    "plt.show()"
   ]
  }
 ],
 "metadata": {
  "language_info": {
   "name": "python"
  }
 },
 "nbformat": 4,
 "nbformat_minor": 2
}
