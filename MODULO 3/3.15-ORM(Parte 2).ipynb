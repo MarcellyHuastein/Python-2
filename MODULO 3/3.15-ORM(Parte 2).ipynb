{
 "cells": [
  {
   "cell_type": "markdown",
   "metadata": {},
   "source": [
    "## Exercícios\n",
    "\n",
    "> Retirados de [learn-python: sqlalchemy_orm-questions](https://aviadr1.github.io/learn-advanced-python/11_db_access/exercise/sqlalchemy_orm-questions.html).\n",
    "\n",
    "#### Q1.\n",
    "\n",
    "Baixa e extraia o arquivo compactado com o banco de dados [Chinook database](https://www.sqlitetutorial.net/sqlite-sample-database/). Salve o arquivo `chinook.db` na mesma pasta deste script.\n",
    "* Link para baixar: http://www.sqlitetutorial.net/wp-content/uploads/2018/03/chinook.zip\n",
    "\n",
    "<img width=500 src=https://www.sqlitetutorial.net/wp-content/uploads/2015/11/sqlite-sample-database-color.jpg>\n"
   ]
  },
  {
   "cell_type": "markdown",
   "metadata": {},
   "source": [
    "#### Q2.\n",
    "\n",
    "Leia o código e os comentários das células a seguir para entender como acessamos os modelos ORM de um banco já existente."
   ]
  },
  {
   "cell_type": "code",
   "execution_count": null,
   "metadata": {
    "vscode": {
     "languageId": "plaintext"
    }
   },
   "outputs": [],
   "source": [
    "from sqlalchemy import create_engine, text, MetaData\n",
    "from sqlalchemy.orm import Session\n",
    "\n",
    "engine = create_engine(\"sqlite+pysqlite:///chinook.db\", echo=False)\n",
    "\n",
    "### extrai as classes da base de dados Chinook\n",
    "metadata = MetaData()\n",
    "metadata.reflect(engine)\n",
    "\n",
    "# O metadata tem informações sobre as tabelas\n",
    "# que serão usadas para criar os modelos ORM\n",
    "for table_name, table in metadata.tables.items():\n",
    "    print(table_name)\n",
    "    print(table.columns.keys())\n",
    "    print(table.columns.items())\n",
    "    print('-'*25)\n",
    "\n",
    "### configura o objeto Base mapeando os modelos ORM das tabelas\n",
    "from sqlalchemy.ext.automap import automap_base\n",
    "Base = automap_base(metadata=metadata)\n",
    "Base.prepare()\n",
    "\n",
    "# o objeto Base tem os modelos ORM que podemos usar\n",
    "# para manipular o banco de dados\n",
    "print(Base.classes.items())"
   ]
  },
  {
   "cell_type": "code",
   "execution_count": null,
   "metadata": {
    "vscode": {
     "languageId": "plaintext"
    }
   },
   "outputs": [],
   "source": [
    "# A seguir um exemplo de query na tabela Albums\n",
    "# usamos o objeto Base para acessar cada modelo ORM.\n",
    "\n",
    "session = Session(engine)\n",
    "res = session.scalars(select(Base.classes.albums))\n",
    "first_album = res.first()\n",
    "print(first_album.AlbumId, first_album.Title)"
   ]
  },
  {
   "cell_type": "markdown",
   "metadata": {},
   "source": [
    "#### Q3. \n",
    "Com base nos códigos anteriores realize as operações solicitadas nas células a seguir:\n"
   ]
  },
  {
   "cell_type": "code",
   "execution_count": null,
   "metadata": {
    "vscode": {
     "languageId": "plaintext"
    }
   },
   "outputs": [],
   "source": [
    "### Imprima os três primeiros registros da tabela tracks"
   ]
  },
  {
   "cell_type": "code",
   "execution_count": null,
   "metadata": {
    "vscode": {
     "languageId": "plaintext"
    }
   },
   "outputs": [],
   "source": [
    "from sqlalchemy import select\n",
    "\n",
    "Track = Base.classes.tracks\n",
    "session = Session(engine)\n",
    "\n",
    "# Consulta os três primeiros registros\n",
    "tracks = session.scalars(select(Track).limit(3)).all()\n",
    "\n",
    "for track in tracks:\n",
    "    print(f\"TrackId: {track.TrackId}, Name: {track.Name}, AlbumId: {track.AlbumId}, Milliseconds: {track.Milliseconds}\")"
   ]
  },
  {
   "cell_type": "code",
   "execution_count": null,
   "metadata": {
    "vscode": {
     "languageId": "plaintext"
    }
   },
   "outputs": [],
   "source": [
    "### Imprima o nome da faixa e o título do álbum das primeiras 20 faixas na tabela tracks."
   ]
  },
  {
   "cell_type": "code",
   "execution_count": null,
   "metadata": {
    "vscode": {
     "languageId": "plaintext"
    }
   },
   "outputs": [],
   "source": [
    "from sqlalchemy.orm import joinedload\n",
    "\n",
    "Album = Base.classes.albums\n",
    "\n",
    "# Consulta com join entre tracks e albums\n",
    "tracks_with_albums = session.scalars(\n",
    "    select(Track)\n",
    "    .options(joinedload(Track.album))\n",
    "    .limit(20)\n",
    ").unique().all()\n",
    "\n",
    "for track in tracks_with_albums:\n",
    "    print(f\"Track: {track.Name}, Album: {track.album.Title}\")"
   ]
  },
  {
   "cell_type": "code",
   "execution_count": null,
   "metadata": {
    "vscode": {
     "languageId": "plaintext"
    }
   },
   "outputs": [],
   "source": [
    "### Imprima as 10 primeiras vendas de faixas da tabela invoice_items\n",
    "### Para essas 10 primeiras vendas, imprima os nomes das faixas vendidas e a quantidade vendida.\n"
   ]
  },
  {
   "cell_type": "code",
   "execution_count": null,
   "metadata": {
    "vscode": {
     "languageId": "plaintext"
    }
   },
   "outputs": [],
   "source": [
    "InvoiceItem = Base.classes.invoice_items\n",
    "\n",
    "# Consulta com join entre invoice_items e tracks\n",
    "sales = session.scalars(\n",
    "    select(InvoiceItem)\n",
    "    .options(joinedload(InvoiceItem.track))\n",
    "    .limit(10)\n",
    ").unique().all()\n",
    "\n",
    "for sale in sales:\n",
    "    print(f\"Track: {sale.track.Name}, Quantity: {sale.Quantity}\")"
   ]
  },
  {
   "cell_type": "code",
   "execution_count": null,
   "metadata": {
    "vscode": {
     "languageId": "plaintext"
    }
   },
   "outputs": [],
   "source": [
    "### Imprima os nomes das 10 faixas mais vendidas e quantas vezes foram vendidas."
   ]
  },
  {
   "cell_type": "code",
   "execution_count": null,
   "metadata": {
    "vscode": {
     "languageId": "plaintext"
    }
   },
   "outputs": [],
   "source": [
    "from sqlalchemy import func\n",
    "\n",
    "# Consulta agregada para contar vendas por faixa\n",
    "top_tracks = session.execute(\n",
    "    select(Track.Name, func.sum(InvoiceItem.Quantity).label('total_sales'))\n",
    "    .join(InvoiceItem, InvoiceItem.TrackId == Track.TrackId)\n",
    "    .group_by(Track.TrackId)\n",
    "    .order_by(func.sum(InvoiceItem.Quantity).desc())\n",
    "    .limit(10)\n",
    ").all()\n",
    "\n",
    "for track in top_tracks:\n",
    "    print(f\"Track: {track.Name}, Total Sales: {track.total_sales}\")"
   ]
  },
  {
   "cell_type": "code",
   "execution_count": null,
   "metadata": {
    "vscode": {
     "languageId": "plaintext"
    }
   },
   "outputs": [],
   "source": [
    "### Quem são os 10 artistas que mais venderam?\n",
    "### dica: você precisa juntar as tabelas invoice_items, tracks, albums e artists"
   ]
  },
  {
   "cell_type": "code",
   "execution_count": null,
   "metadata": {
    "vscode": {
     "languageId": "plaintext"
    }
   },
   "outputs": [],
   "source": [
    "Artist = Base.classes.artists\n",
    "\n",
    "# Consulta complexa com múltiplos joins\n",
    "top_artists = session.execute(\n",
    "    select(Artist.Name, func.sum(InvoiceItem.Quantity).label('total_sales'))\n",
    "    .join(Album, Album.ArtistId == Artist.ArtistId)\n",
    "    .join(Track, Track.AlbumId == Album.AlbumId)\n",
    "    .join(InvoiceItem, InvoiceItem.TrackId == Track.TrackId)\n",
    "    .group_by(Artist.ArtistId)\n",
    "    .order_by(func.sum(InvoiceItem.Quantity).desc())\n",
    "    .limit(10)\n",
    ").all()\n",
    "\n",
    "for artist in top_artists:\n",
    "    print(f\"Artist: {artist.Name}, Total Sales: {artist.total_sales}\")"
   ]
  }
 ],
 "metadata": {
  "language_info": {
   "name": "python"
  }
 },
 "nbformat": 4,
 "nbformat_minor": 2
}
