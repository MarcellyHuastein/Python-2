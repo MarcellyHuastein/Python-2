{
 "cells": [
  {
   "cell_type": "markdown",
   "metadata": {},
   "source": [
    "> Projeto Desenvolve <br>\n",
    "Programação Intermediária com Python <br>\n",
    "Profa. Camila Laranjeira (mila@projetodesenvolve.com.br) <br>\n",
    "\n",
    "# 3.14 - ORM"
   ]
  },
  {
   "cell_type": "markdown",
   "metadata": {},
   "source": [
    "## Exercícios\n",
    "\n",
    "#### Q1. Conhecendo os dados\n",
    "Baixe o seguinte csv onde iremos trabalhar. Ele contém informações sobre salários de profissionais de dados de uma empresa hipotética entre 2009 e 2016\n",
    "* https://github.com/camilalaranjeira/python-intermediario/blob/main/salaries.csv\n",
    "\n",
    "Suas colunas, descritas na [página do Kaggle que contém o dataset](https://www.kaggle.com/datasets/krishujeniya/salary-prediction-of-data-professions?resource=download), são:\n",
    "* FIRST NAME: Primeiro nome do profissional de dados (String)\n",
    "* LAST NAME: Sobrenome do profissional de dados (String)\n",
    "* SEX: Gênero do profissional de dados (String: 'F' para Feminino, 'M' para Masculino)\n",
    "* DOJ (Date of Joining): A data em que o profissional de dados ingressou na empresa (Data no formato MM/DD/AAAA)\n",
    "* CURRENT DATE: A data atual ou a data de referência dos dados (Data no formato MM/DD/AAAA)\n",
    "* DESIGNATION: O cargo ou designação do profissional de dados (String: ex., Analista, Analista Sênior, Gerente)\n",
    "* AGE: Idade do profissional de dados (Integer)\n",
    "* SALARY: Salário anual do profissional de dados (Float)\n",
    "* UNIT: Unidade de negócios ou departamento em que o profissional de dados trabalha (String: ex., TI, Finanças, Marketing)\n",
    "* LEAVES USED: Número de licenças utilizadas pelo profissional de dados (Integer)\n",
    "* LEAVES REMAINING: Número de licenças restantes para o profissional de dados (Integer)\n",
    "* RATINGS: Avaliações de desempenho do profissional de dados (Float)\n",
    "* PAST EXP: Experiência de trabalho anterior em anos antes de ingressar na empresa atual (Float)\n",
    "\n",
    "Na célula a seguir, **carregue os dados do CSV e dê uma olhada neles antes de seguir**."
   ]
  },
  {
   "cell_type": "code",
   "execution_count": null,
   "metadata": {
    "vscode": {
     "languageId": "plaintext"
    }
   },
   "outputs": [],
   "source": [
    "import pandas as pd\n",
    "import requests\n",
    "from io import StringIO\n",
    "\n",
    "# URL do arquivo CSV no GitHub\n",
    "url = \"https://raw.githubusercontent.com/camilalaranjeira/python-intermediario/main/salaries.csv\"\n",
    "\n",
    "# Baixar o conteúdo do arquivo\n",
    "response = requests.get(url)\n",
    "response.raise_for_status()  # Verifica se a requisição foi bem-sucedida\n",
    "\n",
    "# Carregar os dados em um DataFrame\n",
    "data = pd.read_csv(StringIO(response.text))\n",
    "\n",
    "# Visualizar as primeiras linhas do DataFrame\n",
    "print(\"Primeiras 5 linhas do DataFrame:\")\n",
    "print(data.head())\n",
    "\n",
    "# Informações gerais sobre os dados\n",
    "print(\"\\nInformações sobre o DataFrame:\")\n",
    "print(data.info())\n",
    "\n",
    "# Estatísticas descritivas\n",
    "print(\"\\nEstatísticas descritivas:\")\n",
    "print(data.describe())"
   ]
  },
  {
   "cell_type": "markdown",
   "metadata": {},
   "source": [
    "#### Q2. Modelando os dados\n",
    "Você deve **criar um ORM com SQLAlchemy capaz de comportar os dados dessa base**.\n",
    "\n",
    "* Crie um campo de chave primária `ID`, que deve ser incrementado automaticamente\n",
    "* Os campos SEX, DESIGNATION e UNIT devem ser definidos como classes `Enum` com os possíveis valores (consulte os valores únicos dessas colunas)\n",
    "* Para os outros campos, consulte os tipos de dados informados na descrição acima"
   ]
  },
  {
   "cell_type": "code",
   "execution_count": null,
   "metadata": {
    "vscode": {
     "languageId": "plaintext"
    }
   },
   "outputs": [],
   "source": [
    "from sqlalchemy import create_engine, Column, Integer, String, Float, Date, Enum\n",
    "from sqlalchemy.ext.declarative import declarative_base\n",
    "from sqlalchemy.orm import sessionmaker\n",
    "from enum import Enum as PyEnum\n",
    "import pandas as pd\n",
    "\n",
    "# Definindo Enums para campos categóricos\n",
    "class SexEnum(PyEnum):\n",
    "    MALE = 'M'\n",
    "    FEMALE = 'F'\n",
    "\n",
    "class DesignationEnum(PyEnum):\n",
    "    ANALYST = 'Analyst'\n",
    "    SENIOR_ANALYST = 'Senior Analyst'\n",
    "    DATA_SCIENTIST = 'Data Scientist'\n",
    "    DATA_ENGINEER = 'Data Engineer'\n",
    "    MANAGER = 'Manager'\n",
    "\n",
    "class UnitEnum(PyEnum):\n",
    "    IT = 'IT'\n",
    "    FINANCE = 'Finance'\n",
    "    MARKETING = 'Marketing'\n",
    "    HR = 'HR'\n",
    "    OPERATIONS = 'Operations'\n",
    "\n",
    "# Configuração do SQLAlchemy\n",
    "Base = declarative_base()\n",
    "\n",
    "class Employee(Base):\n",
    "    __tablename__ = 'employees'\n",
    "\n",
    "    id = Column(Integer, primary_key=True, autoincrement=True)\n",
    "    first_name = Column(String(50), nullable=False)\n",
    "    last_name = Column(String(50), nullable=False)\n",
    "    sex = Column(Enum(SexEnum), nullable=False)\n",
    "    doj = Column(Date, nullable=False)  # Date of Joining\n",
    "    current_date = Column(Date, nullable=False)\n",
    "    designation = Column(Enum(DesignationEnum), nullable=False)\n",
    "    age = Column(Integer, nullable=False)\n",
    "    salary = Column(Float, nullable=False)\n",
    "    unit = Column(Enum(UnitEnum), nullable=False)\n",
    "    leaves_used = Column(Integer, nullable=False)\n",
    "    leaves_remaining = Column(Integer, nullable=False)\n",
    "    ratings = Column(Float, nullable=False)\n",
    "    past_exp = Column(Float, nullable=False)  # Past Experience\n",
    "\n",
    "# Criar engine e tabelas\n",
    "engine = create_engine('sqlite:///salaries.db')\n",
    "Base.metadata.create_all(engine)\n",
    "\n",
    "# Criar sessão\n",
    "Session = sessionmaker(bind=engine)\n",
    "session = Session()\n",
    "\n",
    "# Carregar dados do CSV\n",
    "df = pd.read_csv('salaries.csv')\n",
    "\n",
    "# Converter dados para o formato do ORM\n",
    "for _, row in df.iterrows():\n",
    "    employee = Employee(\n",
    "        first_name=row['FIRST NAME'],\n",
    "        last_name=row['LAST NAME'],\n",
    "        sex=SexEnum(row['SEX']),\n",
    "        doj=pd.to_datetime(row['DOJ']).date(),\n",
    "        current_date=pd.to_datetime(row['CURRENT DATE']).date(),\n",
    "        designation=DesignationEnum(row['DESIGNATION']),\n",
    "        age=row['AGE'],\n",
    "        salary=row['SALARY'],\n",
    "        unit=UnitEnum(row['UNIT']),\n",
    "        leaves_used=row['LEAVES USED'],\n",
    "        leaves_remaining=row['LEAVES REMAINING'],\n",
    "        ratings=row['RATINGS'],\n",
    "        past_exp=row['PAST EXP']\n",
    "    )\n",
    "    session.add(employee)\n",
    "\n",
    "# Commit para salvar no banco\n",
    "session.commit()\n",
    "session.close()"
   ]
  },
  {
   "cell_type": "markdown",
   "metadata": {
    "vscode": {
     "languageId": "plaintext"
    }
   },
   "source": [
    "#### Q3. Estabelecendo uma conexão\n",
    "\n",
    "Usando o método `create_engine` do SQLAlchemy, crie uma conexão com um novo banco de dados SQLite chamado `salarios`."
   ]
  },
  {
   "cell_type": "code",
   "execution_count": null,
   "metadata": {
    "vscode": {
     "languageId": "plaintext"
    }
   },
   "outputs": [],
   "source": [
    "from sqlalchemy import create_engine\n",
    "\n",
    "# Criar uma conexão com o banco de dados SQLite chamado 'salarios.db'\n",
    "engine = create_engine('sqlite:///salarios.db')\n",
    "\n",
    "# Testar a conexão\n",
    "try:\n",
    "    with engine.connect() as connection:\n",
    "        print(\"✅ Conexão com o banco de dados 'salarios.db' estabelecida com sucesso!\")\n",
    "except Exception as e:\n",
    "    print(f\"❌ Erro ao conectar ao banco de dados: {e}\")"
   ]
  },
  {
   "cell_type": "markdown",
   "metadata": {},
   "source": [
    "#### Q4. Criando as tabelas\n",
    "Crie as tabelas da questão Q2 no banco `salarios`."
   ]
  },
  {
   "cell_type": "code",
   "execution_count": null,
   "metadata": {
    "vscode": {
     "languageId": "plaintext"
    }
   },
   "outputs": [],
   "source": [
    "from sqlalchemy import create_engine, Column, Integer, String, Float, Date, Enum\n",
    "from sqlalchemy.ext.declarative import declarative_base\n",
    "from enum import Enum as PyEnum\n",
    "from datetime import datetime\n",
    "\n",
    "# 1. Definir Enums para os campos categóricos\n",
    "class Sex(PyEnum):\n",
    "    M = 'M'\n",
    "    F = 'F'\n",
    "\n",
    "class Designation(PyEnum):\n",
    "    ANALYST = 'Analyst'\n",
    "    SENIOR_ANALYST = 'Senior Analyst'\n",
    "    DATA_SCIENTIST = 'Data Scientist'\n",
    "    DATA_ENGINEER = 'Data Engineer'\n",
    "    MANAGER = 'Manager'\n",
    "    # Adicione outros cargos conforme encontrados nos dados\n",
    "\n",
    "class Unit(PyEnum):\n",
    "    IT = 'IT'\n",
    "    FINANCE = 'Finance'\n",
    "    MARKETING = 'Marketing'\n",
    "    HR = 'HR'\n",
    "    OPERATIONS = 'Operations'\n",
    "    # Adicione outros departamentos conforme encontrados nos dados\n",
    "\n",
    "# 2. Configurar a base do SQLAlchemy\n",
    "Base = declarative_base()\n",
    "\n",
    "# 3. Criar a classe Employee que mapeia para a tabela\n",
    "class Employee(Base):\n",
    "    __tablename__ = 'employees'\n",
    "    \n",
    "    id = Column(Integer, primary_key=True, autoincrement=True)\n",
    "    first_name = Column(String(50), nullable=False)\n",
    "    last_name = Column(String(50), nullable=False)\n",
    "    sex = Column(Enum(Sex), nullable=False)\n",
    "    doj = Column(Date, nullable=False)  # Date of Joining\n",
    "    current_date = Column(Date, nullable=False)\n",
    "    designation = Column(Enum(Designation), nullable=False)\n",
    "    age = Column(Integer, nullable=False)\n",
    "    salary = Column(Float, nullable=False)\n",
    "    unit = Column(Enum(Unit), nullable=False)\n",
    "    leaves_used = Column(Integer, nullable=False)\n",
    "    leaves_remaining = Column(Integer, nullable=False)\n",
    "    ratings = Column(Float, nullable=False)\n",
    "    past_exp = Column(Float, nullable=False)  # Past Experience\n",
    "\n",
    "    def __repr__(self):\n",
    "        return f\"<Employee(id={self.id}, name='{self.first_name} {self.last_name}')>\"\n",
    "\n",
    "# 4. Criar o banco de dados e as tabelas\n",
    "engine = create_engine('sqlite:///salarios.db')\n",
    "Base.metadata.create_all(engine)\n",
    "\n",
    "print(\"Tabelas criadas com sucesso no banco 'salarios.db'\")"
   ]
  },
  {
   "cell_type": "markdown",
   "metadata": {},
   "source": [
    "#### Q5. Populando\n",
    "\n",
    "Usando o método `to_sql` da biblioteca Pandas (veja [a documentação](https://pandas.pydata.org/docs/reference/api/pandas.DataFrame.to_sql.html)), popule o banco `salarios` com os dados do csv que você carregou na questão Q1.\n",
    "* Lembre-se de definir o parâmetro `if_exists='append'` para que as tabelas não sejam dropadas e recriadas."
   ]
  },
  {
   "cell_type": "code",
   "execution_count": null,
   "metadata": {
    "vscode": {
     "languageId": "plaintext"
    }
   },
   "outputs": [],
   "source": [
    "import pandas as pd\n",
    "from sqlalchemy import create_engine\n",
    "from datetime import datetime\n",
    "\n",
    "# 1. Baixar e carregar o arquivo CSV\n",
    "url = \"https://raw.githubusercontent.com/camilalaranjeira/python-intermediario/main/salaries.csv\"\n",
    "df = pd.read_csv(url)\n",
    "\n",
    "# 2. Converter as colunas de data para o formato datetime\n",
    "df['DOJ'] = pd.to_datetime(df['DOJ'], format='%m/%d/%Y')\n",
    "df['CURRENT DATE'] = pd.to_datetime(df['CURRENT DATE'], format='%m/%d/%Y')\n",
    "\n",
    "# 3. Mostrar uma prévia dos dados\n",
    "print(\"Primeiras 5 linhas do DataFrame:\")\n",
    "print(df.head())\n",
    "print(\"\\nInformações sobre o DataFrame:\")\n",
    "print(df.info())\n",
    "\n",
    "# 4. Conectar ao banco de dados SQLite\n",
    "engine = create_engine('sqlite:///salarios.db')\n",
    "\n",
    "# 5. Popular o banco de dados usando to_sql\n",
    "df.to_sql(\n",
    "    name='employees',          # Nome da tabela\n",
    "    con=engine,                # Conexão com o banco\n",
    "    if_exists='append',        # Adicionar aos dados existentes\n",
    "    index=False,               # Não incluir o índice do DataFrame\n",
    "    dtype={\n",
    "        'FIRST NAME': String(50),\n",
    "        'LAST NAME': String(50),\n",
    "        'SEX': Enum('M', 'F', name='sex'),\n",
    "        'DOJ': Date,\n",
    "        'CURRENT DATE': Date,\n",
    "        'DESIGNATION': String(50),\n",
    "        'AGE': Integer,\n",
    "        'SALARY': Float,\n",
    "        'UNIT': String(50),\n",
    "        'LEAVES USED': Integer,\n",
    "        'LEAVES REMAINING': Integer,\n",
    "        'RATINGS': Float,\n",
    "        'PAST EXP': Float\n",
    "    }\n",
    ")\n",
    "\n",
    "print(\"\\nDados importados com sucesso para o banco 'salarios.db'!\")"
   ]
  },
  {
   "cell_type": "markdown",
   "metadata": {},
   "source": [
    "#### Q6. Consultas SQL vs ORM\n",
    "\n",
    "Agrupe os dados por DESIGNATION e selecione o mínimo, máximo e a média dos salários (SALARY) divididos por 12. Já que o atributo SALARY é anual, dividir por 12 nos mostrará os valores mensais.\n",
    "\n",
    "Assumindo que a variável que armazena a sua conexão se chama `engine`, você deve realizar a query acima de três formas:\n",
    "* Executando a query SQL através de uma instância de conexão retornada pelo método `engine.connect()`\n",
    "* Executando a query SQL com o método `read_sql_query` do Pandas (veja [a documentação](https://pandas.pydata.org/docs/reference/api/pandas.read_sql_query.html)). Você usará mesma instância `engine.connect()` como um dos parâmetros.\n",
    "* Executando uma query criada com o módulo `select` do SQLAlchemy. Sua execução deve ser feita através de um objeto `Session` do módulo `orm` do SQLAlchemy (`Session(engine)`).\n"
   ]
  },
  {
   "cell_type": "code",
   "execution_count": null,
   "metadata": {
    "vscode": {
     "languageId": "plaintext"
    }
   },
   "outputs": [],
   "source": [
    "from sqlalchemy import text\n",
    "\n",
    "# Query SQL pura\n",
    "query_sql = \"\"\"\n",
    "SELECT \n",
    "    DESIGNATION,\n",
    "    MIN(SALARY/12) as min_salary_monthly,\n",
    "    MAX(SALARY/12) as max_salary_monthly,\n",
    "    AVG(SALARY/12) as avg_salary_monthly\n",
    "FROM \n",
    "    employees\n",
    "GROUP BY \n",
    "    DESIGNATION\n",
    "\"\"\"\n",
    "\n",
    "# Executando com engine.connect()\n",
    "with engine.connect() as conn:\n",
    "    result = conn.execute(text(query_sql))\n",
    "    print(\"\\nResultado usando engine.connect():\")\n",
    "    for row in result:\n",
    "        print(row)"
   ]
  },
  {
   "cell_type": "code",
   "execution_count": null,
   "metadata": {
    "vscode": {
     "languageId": "plaintext"
    }
   },
   "outputs": [],
   "source": [
    "import pandas as pd\n",
    "\n",
    "# Executando com pandas\n",
    "df_result = pd.read_sql_query(query_sql, engine)\n",
    "\n",
    "print(\"\\nResultado usando pandas.read_sql_query():\")\n",
    "print(df_result)"
   ]
  },
  {
   "cell_type": "code",
   "execution_count": null,
   "metadata": {
    "vscode": {
     "languageId": "plaintext"
    }
   },
   "outputs": [],
   "source": [
    "from sqlalchemy import select, func\n",
    "from sqlalchemy.orm import Session\n",
    "\n",
    "# Criando a query com SQLAlchemy ORM\n",
    "stmt = select(\n",
    "    Employee.designation,\n",
    "    func.min(Employee.salary/12).label('min_salary_monthly'),\n",
    "    func.max(Employee.salary/12).label('max_salary_monthly'),\n",
    "    func.avg(Employee.salary/12).label('avg_salary_monthly')\n",
    ").group_by(Employee.designation)\n",
    "\n",
    "# Executando com Session\n",
    "with Session(engine) as session:\n",
    "    result = session.execute(stmt)\n",
    "    print(\"\\nResultado usando SQLAlchemy ORM:\")\n",
    "    for row in result:\n",
    "        print(row)"
   ]
  }
 ],
 "metadata": {
  "language_info": {
   "name": "python"
  }
 },
 "nbformat": 4,
 "nbformat_minor": 2
}
